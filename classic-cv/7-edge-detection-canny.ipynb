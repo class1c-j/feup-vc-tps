{
 "cells": [
  {
   "attachments": {},
   "cell_type": "markdown",
   "metadata": {},
   "source": [
    "# 7. Edge detection - Canny filter"
   ]
  },
  {
   "cell_type": "code",
   "execution_count": 6,
   "metadata": {},
   "outputs": [],
   "source": [
    "import cv2\n",
    "\n",
    "IMAGE_PATH = \"images/Lena.jpg\"\n",
    "image = cv2.imread(IMAGE_PATH, cv2.IMREAD_GRAYSCALE)\n",
    "\n",
    "SCALE = 1\n",
    "DELTA = 0\n",
    "DDEPTH = cv2.CV_16S"
   ]
  },
  {
   "attachments": {},
   "cell_type": "markdown",
   "metadata": {},
   "source": [
    "**a)** Detect the edges of an image using the Canny() OpenCV function. Suggestion: use trackbars to select different\n",
    "low and high threshold for the hysteresis procedure and different aperture size for the Sobel() function."
   ]
  },
  {
   "cell_type": "code",
   "execution_count": 5,
   "metadata": {},
   "outputs": [],
   "source": [
    "low_threshold = 100\n",
    "high_threshold = 200\n",
    "\n",
    "\n",
    "def update_low_threshold(value):\n",
    "    global low_threshold\n",
    "    low_threshold = value\n",
    "    edges = cv2.Canny(image, low_threshold, high_threshold)\n",
    "    cv2.imshow(\"Canny\", edges)\n",
    "\n",
    "\n",
    "def update_high_threshold(value):\n",
    "    global high_threshold\n",
    "    high_threshold = value\n",
    "    edges = cv2.Canny(image, low_threshold, high_threshold)\n",
    "    cv2.imshow(\"Canny\", edges)\n",
    "\n",
    "\n",
    "cv2.namedWindow(\"Canny\")\n",
    "cv2.createTrackbar(\"Low Threshold\", \"Canny\", low_threshold, 300, update_low_threshold)\n",
    "cv2.createTrackbar(\n",
    "    \"High Threshold\", \"Canny\", high_threshold, 300, update_high_threshold\n",
    ")\n",
    "\n",
    "cv2.waitKey(0)\n",
    "cv2.destroyAllWindows()"
   ]
  },
  {
   "attachments": {},
   "cell_type": "markdown",
   "metadata": {},
   "source": [
    "**b)** Compare the results of applying the following two filters to the same image:\n",
    "- Sobel filter, with threshold t, after smoothing the image with a Gaussian blur filter with size s;\n",
    "- Canny filter, with \"low threshold\" = \"high threshold\" = t and \"aperture\" = s,\n",
    "using the same t and s values. Try also with a \"low threshold\" different from the \"high threshold\"."
   ]
  },
  {
   "cell_type": "code",
   "execution_count": 12,
   "metadata": {},
   "outputs": [],
   "source": [
    "t = 100\n",
    "s = 3\n",
    "low_t = t\n",
    "high_t = 250  # Change to t to try with same value\n",
    "\n",
    "smoothed = cv2.GaussianBlur(image, (s, s), 0)\n",
    "\n",
    "grad_x = cv2.Sobel(\n",
    "    smoothed,\n",
    "    DDEPTH,\n",
    "    1,\n",
    "    0,\n",
    "    ksize=s,\n",
    "    scale=SCALE,\n",
    "    delta=DELTA,\n",
    "    borderType=cv2.BORDER_DEFAULT,\n",
    ")\n",
    "grad_y = cv2.Sobel(\n",
    "    smoothed,\n",
    "    DDEPTH,\n",
    "    0,\n",
    "    1,\n",
    "    ksize=s,\n",
    "    scale=SCALE,\n",
    "    delta=DELTA,\n",
    "    borderType=cv2.BORDER_DEFAULT,\n",
    ")\n",
    "\n",
    "abs_grad_x = cv2.convertScaleAbs(grad_x)\n",
    "abs_grad_y = cv2.convertScaleAbs(grad_y)\n",
    "\n",
    "grad = cv2.addWeighted(abs_grad_x, 0.5, abs_grad_y, 0.5, 0)\n",
    "\n",
    "_, thresh = cv2.threshold(grad, t, 255, cv2.THRESH_BINARY)\n",
    "cv2.imshow(\"Sobel\", thresh)\n",
    "\n",
    "edges = cv2.Canny(image, low_t, high_t, apertureSize=s)\n",
    "cv2.imshow(\"Canny\", edges)\n",
    "\n",
    "cv2.waitKey(0)\n",
    "cv2.destroyAllWindows()"
   ]
  }
 ],
 "metadata": {
  "kernelspec": {
   "display_name": "Python 3",
   "language": "python",
   "name": "python3"
  },
  "language_info": {
   "codemirror_mode": {
    "name": "ipython",
    "version": 3
   },
   "file_extension": ".py",
   "mimetype": "text/x-python",
   "name": "python",
   "nbconvert_exporter": "python",
   "pygments_lexer": "ipython3",
   "version": "3.11.3"
  },
  "orig_nbformat": 4
 },
 "nbformat": 4,
 "nbformat_minor": 2
}
