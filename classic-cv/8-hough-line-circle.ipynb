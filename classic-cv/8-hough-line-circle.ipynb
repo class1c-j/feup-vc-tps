{
 "cells": [
  {
   "attachments": {},
   "cell_type": "markdown",
   "metadata": {},
   "source": [
    "# 8. Hough transform – line and circle detection"
   ]
  },
  {
   "cell_type": "code",
   "execution_count": 1,
   "metadata": {},
   "outputs": [],
   "source": [
    "import cv2\n",
    "import numpy as np\n",
    "import math\n",
    "\n",
    "road = cv2.imread(\"images/streetLines_01.jpg\")\n",
    "chess = cv2.imread(\"images/chessboard_02.jpg\")\n",
    "coins_overlap = cv2.imread(\"images/coins_02.jpg\")\n",
    "coins = cv2.imread(\"images/coins_01.jpg\")"
   ]
  },
  {
   "attachments": {},
   "cell_type": "markdown",
   "metadata": {},
   "source": [
    "**a)** Compare the functionality of `HoughLines()` and `HoughLinesP()` OpenCV functions for line detection."
   ]
  },
  {
   "attachments": {},
   "cell_type": "markdown",
   "metadata": {},
   "source": [
    "> - **`HoughLines()`**: detects lines in an images; returns list of detected lines (rho, theta); the lines are infinite lines (no start or end);\n",
    "> - **`HoughLinesP()`**: extension of the Hough transform used for probabilistic Hough line detection; returns line segments (start point, end point);"
   ]
  },
  {
   "attachments": {},
   "cell_type": "markdown",
   "metadata": {},
   "source": [
    "**b)** Use `HoughLines()` to detect lines in images like those in figure 1.a and 1.b; try different parameter values; draw\n",
    "the detected lines on the image."
   ]
  },
  {
   "cell_type": "code",
   "execution_count": 2,
   "metadata": {},
   "outputs": [],
   "source": [
    "road_gray = cv2.cvtColor(road, cv2.COLOR_BGR2GRAY)\n",
    "road_copy = road.copy()\n",
    "chess_gray = cv2.cvtColor(chess, cv2.COLOR_BGR2GRAY)\n",
    "chess_copy = chess.copy()\n",
    "\n",
    "\n",
    "def detect_hough_lines(source, dest, threshold):\n",
    "    edges = cv2.Canny(source, 50, 200)\n",
    "    lines = cv2.HoughLines(edges, 1, np.pi / 180, threshold, None, 0, 0)\n",
    "\n",
    "    if lines is not None:\n",
    "        for i in range(len(lines)):\n",
    "            rho = lines[i][0][0]\n",
    "            theta = lines[i][0][1]\n",
    "            a = math.cos(theta)\n",
    "            b = math.sin(theta)\n",
    "            x0 = a * rho\n",
    "            y0 = b * rho\n",
    "            pt1 = (int(x0 + 1000 * (-b)), int(y0 + 1000 * (a)))\n",
    "            pt2 = (int(x0 - 1000 * (-b)), int(y0 - 1000 * (a)))\n",
    "            cv2.line(dest, pt1, pt2, (0, 0, 255), 1, cv2.LINE_AA)\n",
    "\n",
    "    return dest\n",
    "\n",
    "\n",
    "# Threshold values that show best result for each image\n",
    "cv2.imshow(\"Image 1\", detect_hough_lines(road_gray, road_copy, 150))\n",
    "cv2.imshow(\"Image 2\", detect_hough_lines(chess_gray, chess_copy, 70))\n",
    "\n",
    "cv2.waitKey(0)\n",
    "cv2.destroyAllWindows()"
   ]
  },
  {
   "attachments": {},
   "cell_type": "markdown",
   "metadata": {},
   "source": [
    "**c)** Use `HoughLinesP()` to detect line segments in the same images that you used in the previous problem; try\n",
    "different parameter values; draw the detected line segments on the image."
   ]
  },
  {
   "cell_type": "code",
   "execution_count": 3,
   "metadata": {},
   "outputs": [],
   "source": [
    "road_gray = cv2.cvtColor(road, cv2.COLOR_BGR2GRAY)\n",
    "road_copy = road.copy()\n",
    "\n",
    "chess_gray = cv2.cvtColor(chess, cv2.COLOR_BGR2GRAY)\n",
    "chess_copy = chess.copy()\n",
    "\n",
    "\n",
    "def detect_hough_p_lines(source, dest, threshold, min_legth, max_gap):\n",
    "    edges = cv2.Canny(source, 50, 200)\n",
    "    lines = cv2.HoughLinesP(edges, 1, np.pi / 180, threshold, min_legth, max_gap)\n",
    "\n",
    "    if lines is not None:\n",
    "        for line in lines:\n",
    "            x1, y1, x2, y2 = line[0]\n",
    "            cv2.line(dest, (x1, y1), (x2, y2), (0, 0, 255), 1, cv2.LINE_AA)\n",
    "\n",
    "    return dest\n",
    "\n",
    "\n",
    "# Threshold values that show best result for each image\n",
    "cv2.imshow(\"Image 1\", detect_hough_p_lines(road_gray, road_copy, 100, 50, 10))\n",
    "cv2.imshow(\"Image 2\", detect_hough_p_lines(chess_gray, chess_copy, 30, 30, 5))\n",
    "\n",
    "cv2.waitKey(0)\n",
    "cv2.destroyAllWindows()"
   ]
  },
  {
   "attachments": {},
   "cell_type": "markdown",
   "metadata": {},
   "source": [
    "**d)** Use `HoughCircles()` to detect the coins present in images like those in figure 1.c and 1.d (without or with\n",
    "superposition among the coins)."
   ]
  },
  {
   "cell_type": "code",
   "execution_count": 27,
   "metadata": {},
   "outputs": [],
   "source": [
    "coins1 = cv2.medianBlur(coins_overlap, 5)\n",
    "coins1 = cv2.cvtColor(coins_overlap, cv2.COLOR_BGR2GRAY)\n",
    "coins1_copy = coins_overlap.copy()\n",
    "\n",
    "coins2 = cv2.medianBlur(coins, 5)\n",
    "coins2 = cv2.cvtColor(coins, cv2.COLOR_BGR2GRAY)\n",
    "coins2_copy = coins.copy()\n",
    "\n",
    "\n",
    "def detect_circles(image, dest, distance, higher_t, lower_t, min_radius, max_radius):\n",
    "    circles = cv2.HoughCircles(\n",
    "        image,\n",
    "        cv2.HOUGH_GRADIENT,\n",
    "        1,\n",
    "        50,\n",
    "        param1=higher_t,\n",
    "        param2=lower_t,\n",
    "        minRadius=min_radius,\n",
    "        maxRadius=max_radius,\n",
    "    )\n",
    "\n",
    "    circles = np.uint16(np.around(circles))\n",
    "\n",
    "    for i in circles[0, :]:\n",
    "        cv2.circle(dest, (i[0], i[1]), i[2], (0, 255, 0), 2)\n",
    "        cv2.circle(dest, (i[0], i[1]), 2, (0, 0, 255), 3)\n",
    "\n",
    "    return dest\n",
    "\n",
    "\n",
    "cv2.imshow(\"Image 1\", detect_circles(coins1, coins1_copy, 50, 200, 100, 100, 250))\n",
    "cv2.imshow(\"Image 2\", detect_circles(coins2, coins2_copy, 100, 250, 50, 40, 120))\n",
    "\n",
    "cv2.waitKey(0)\n",
    "cv2.destroyAllWindows()"
   ]
  }
 ],
 "metadata": {
  "kernelspec": {
   "display_name": "Python 3",
   "language": "python",
   "name": "python3"
  },
  "language_info": {
   "codemirror_mode": {
    "name": "ipython",
    "version": 3
   },
   "file_extension": ".py",
   "mimetype": "text/x-python",
   "name": "python",
   "nbconvert_exporter": "python",
   "pygments_lexer": "ipython3",
   "version": "3.11.3"
  },
  "orig_nbformat": 4
 },
 "nbformat": 4,
 "nbformat_minor": 2
}
