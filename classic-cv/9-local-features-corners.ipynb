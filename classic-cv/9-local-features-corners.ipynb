{
 "cells": [
  {
   "attachments": {},
   "cell_type": "markdown",
   "metadata": {},
   "source": [
    "# 9. Local features - corner detectors"
   ]
  },
  {
   "cell_type": "code",
   "execution_count": 9,
   "metadata": {},
   "outputs": [],
   "source": [
    "import cv2\n",
    "import numpy as np\n",
    "import random as rng\n",
    "\n",
    "image = cv2.imread(\"images/corners_01.jpg\", cv2.IMREAD_GRAYSCALE)\n",
    "rng.seed(12345)"
   ]
  },
  {
   "attachments": {},
   "cell_type": "markdown",
   "metadata": {},
   "source": [
    "**a)** Use the Harris corner detector to detect the corners in one or more images of your choice. Try different\n",
    "parameters, namely, neighborhood size, aperture for the Sobel operator and Harris detector free parameter."
   ]
  },
  {
   "cell_type": "code",
   "execution_count": 8,
   "metadata": {},
   "outputs": [],
   "source": [
    "THRESH = 70\n",
    "BLOCK_SIZE = 2\n",
    "APPERTURE = 3\n",
    "K = 0.04\n",
    "\n",
    "corners = cv2.cornerHarris(image, BLOCK_SIZE, APPERTURE, K)\n",
    "corners_norm = np.empty(corners.shape, np.float32)\n",
    "cv2.normalize(corners, corners_norm, alpha=0, beta=255, norm_type=cv2.NORM_MINMAX)\n",
    "corners_scaled = cv2.convertScaleAbs(corners_norm)\n",
    "\n",
    "for i in range(corners_norm.shape[0]):\n",
    "    for j in range(corners_norm.shape[1]):\n",
    "        if int(corners_norm[i, j]) > THRESH:\n",
    "            cv2.circle(corners_scaled, (j, i), 5, (0), 2)\n",
    "\n",
    "cv2.namedWindow(\"Corners\")\n",
    "cv2.imshow(\"Corners\", corners_scaled)\n",
    "\n",
    "cv2.waitKey(0)\n",
    "cv2.destroyAllWindows()"
   ]
  },
  {
   "attachments": {},
   "cell_type": "markdown",
   "metadata": {},
   "source": [
    "**b)** Use the Shi-Tomasi corner detector to detect the corners in the same images. Try different parameters, namely, block size, and aperture for the Sobel operator; compare the results with those of Harris detector for the equivalent parameters; notice that the Shi-Tomasi implementation has more parameters than Harris implementation."
   ]
  },
  {
   "cell_type": "code",
   "execution_count": 13,
   "metadata": {},
   "outputs": [],
   "source": [
    "QUALITY_LEVEL = 0.01\n",
    "MIN_DISTANCE = 10\n",
    "GRADIENT_SIZE = 3\n",
    "MAX_CORNERS = 10\n",
    "\n",
    "corners = cv2.goodFeaturesToTrack(\n",
    "    image,\n",
    "    MAX_CORNERS,\n",
    "    QUALITY_LEVEL,\n",
    "    MIN_DISTANCE,\n",
    "    None,\n",
    "    blockSize=BLOCK_SIZE,\n",
    "    gradientSize=GRADIENT_SIZE,\n",
    "    k=K,\n",
    ")\n",
    "\n",
    "image_copy = cv2.cvtColor(image, cv2.COLOR_GRAY2BGR)\n",
    "for i in range(corners.shape[0]):\n",
    "    cv2.circle(\n",
    "        image_copy,\n",
    "        (int(corners[i, 0, 0]), int(corners[i, 0, 1])),\n",
    "        4,\n",
    "        (rng.randint(0, 256), rng.randint(0, 256), rng.randint(0, 256)),\n",
    "        cv2.FILLED,\n",
    "    )\n",
    "\n",
    "cv2.imshow(\"Corners\", image_copy)\n",
    "cv2.waitKey(0)\n",
    "cv2.destroyAllWindows()"
   ]
  },
  {
   "attachments": {},
   "cell_type": "markdown",
   "metadata": {},
   "source": [
    "**c)** Use the FAST corner detector to detect the corners in the same images."
   ]
  },
  {
   "cell_type": "code",
   "execution_count": 14,
   "metadata": {},
   "outputs": [],
   "source": [
    "fast = cv2.FastFeatureDetector_create()\n",
    "\n",
    "kp = fast.detect(image, None)\n",
    "result = cv2.drawKeypoints(image, kp, None, (255, 0, 0))\n",
    "\n",
    "cv2.imshow(\"Corners\", result)\n",
    "cv2.waitKey(0)\n",
    "cv2.destroyAllWindows()"
   ]
  },
  {
   "attachments": {},
   "cell_type": "markdown",
   "metadata": {},
   "source": [
    "**d)** Resize the images, downsizing them to 1/4 of the original size and reapply all the corner detectors. C ompare the\n",
    "results with each other and with those that you have obtained previously."
   ]
  },
  {
   "cell_type": "code",
   "execution_count": null,
   "metadata": {},
   "outputs": [],
   "source": [
    "new_width = int(image.shape[1] / 4)\n",
    "new_height = int(image.shape[0] / 4)\n",
    "\n",
    "image = cv2.resize(image, (new_width, new_height))\n",
    "# Rerun previous cells"
   ]
  }
 ],
 "metadata": {
  "kernelspec": {
   "display_name": "Python 3",
   "language": "python",
   "name": "python3"
  },
  "language_info": {
   "codemirror_mode": {
    "name": "ipython",
    "version": 3
   },
   "file_extension": ".py",
   "mimetype": "text/x-python",
   "name": "python",
   "nbconvert_exporter": "python",
   "pygments_lexer": "ipython3",
   "version": "3.11.3"
  },
  "orig_nbformat": 4
 },
 "nbformat": 4,
 "nbformat_minor": 2
}
