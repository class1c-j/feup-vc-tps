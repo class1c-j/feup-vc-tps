{
 "cells": [
  {
   "attachments": {},
   "cell_type": "markdown",
   "metadata": {},
   "source": [
    "# 5. Image enhancement – histogram equalization"
   ]
  },
  {
   "cell_type": "code",
   "execution_count": 1,
   "metadata": {},
   "outputs": [],
   "source": [
    "import cv2\n",
    "import numpy as np\n",
    "\n",
    "IMAGE_PATH = \"images/lowContrast_01.jpg\"\n",
    "IMAGE_PATH_COLOR = \"images/lowContrast_02.jpg\"\n",
    "\n",
    "image = cv2.imread(IMAGE_PATH, cv2.IMREAD_GRAYSCALE)\n",
    "image_color = cv2.imread(IMAGE_PATH_COLOR, cv2.IMREAD_COLOR)\n",
    "\n",
    "HIST_SIZE = 256\n",
    "HIST_RANGE = (0, 256)\n",
    "ACCUMULATE = False\n",
    "HIST_W = 512\n",
    "HIST_H = 400\n",
    "BIN_W = int(round(HIST_W / HIST_SIZE))"
   ]
  },
  {
   "attachments": {},
   "cell_type": "markdown",
   "metadata": {},
   "source": [
    "**a)** Take a low contrast grayscale image and plot its histogram."
   ]
  },
  {
   "cell_type": "code",
   "execution_count": 2,
   "metadata": {},
   "outputs": [],
   "source": [
    "def histogram(image):\n",
    "    hist = cv2.calcHist(\n",
    "        image, [0], None, [HIST_SIZE], HIST_RANGE, accumulate=ACCUMULATE\n",
    "    )\n",
    "    hist_image = np.zeros((HIST_H, HIST_W, 3), np.uint8)\n",
    "    cv2.normalize(hist, hist, 0, HIST_H, cv2.NORM_MINMAX)\n",
    "\n",
    "    for i in range(1, HIST_SIZE):\n",
    "        cv2.line(\n",
    "            hist_image,\n",
    "            (BIN_W * (i - 1), HIST_H - int(hist[i - 1])),\n",
    "            (BIN_W * (i), HIST_H - int(hist[i])),\n",
    "            (255, 255, 255),\n",
    "            thickness=2,\n",
    "        )\n",
    "    return hist_image\n",
    "\n",
    "\n",
    "hist_image = histogram(image)\n",
    "cv2.imshow(\"Source image\", image)\n",
    "cv2.imshow(\"Histogram\", hist_image)\n",
    "cv2.waitKey(0)\n",
    "cv2.destroyAllWindows()"
   ]
  },
  {
   "attachments": {},
   "cell_type": "markdown",
   "metadata": {},
   "source": [
    "**b)** Enhance the image constrast and show the resulting enhanced images and their histograms using:\n",
    "- **b1)** simple histogram equalization"
   ]
  },
  {
   "cell_type": "code",
   "execution_count": 3,
   "metadata": {},
   "outputs": [],
   "source": [
    "equalized = cv2.equalizeHist(image)\n",
    "hist_equalized = histogram(equalized)\n",
    "hist_source = histogram(image)\n",
    "\n",
    "cv2.imshow(\"Source\", image)\n",
    "cv2.imshow(\"Source Histogram\", hist_source)\n",
    "cv2.imshow(\"Result\", equalized)\n",
    "cv2.imshow(\"Result Histogram\", hist_equalized)\n",
    "cv2.waitKey(0)\n",
    "cv2.destroyAllWindows()"
   ]
  },
  {
   "attachments": {},
   "cell_type": "markdown",
   "metadata": {},
   "source": [
    "- **b2)** CLAHE"
   ]
  },
  {
   "cell_type": "code",
   "execution_count": 4,
   "metadata": {},
   "outputs": [],
   "source": [
    "clahe = cv2.createCLAHE(clipLimit=2.0, tileGridSize=(8, 8))\n",
    "cl1 = clahe.apply(image)\n",
    "hist_clahe = histogram(cl1)\n",
    "\n",
    "cv2.imshow(\"Source\", image)\n",
    "cv2.imshow(\"Source Histogram\", hist_source)\n",
    "cv2.imshow(\"CLAHE\", cl1)\n",
    "cv2.imshow(\"CLAHE Histogram\", hist_clahe)\n",
    "cv2.waitKey(0)\n",
    "cv2.destroyAllWindows()"
   ]
  },
  {
   "attachments": {},
   "cell_type": "markdown",
   "metadata": {},
   "source": [
    "**c)** Repeat the previous operations on a color image."
   ]
  },
  {
   "cell_type": "code",
   "execution_count": 7,
   "metadata": {},
   "outputs": [],
   "source": [
    "def color_histogram(image):\n",
    "    b_hist = cv2.calcHist(\n",
    "        [image], [0], None, [HIST_SIZE], HIST_RANGE, accumulate=ACCUMULATE\n",
    "    )\n",
    "    g_hist = cv2.calcHist(\n",
    "        [image], [1], None, [HIST_SIZE], HIST_RANGE, accumulate=ACCUMULATE\n",
    "    )\n",
    "    r_hist = cv2.calcHist(\n",
    "        [image], [2], None, [HIST_SIZE], HIST_RANGE, accumulate=ACCUMULATE\n",
    "    )\n",
    "\n",
    "    hist_image = np.zeros((HIST_H, HIST_W, 3), np.uint8)\n",
    "\n",
    "    cv2.normalize(b_hist, b_hist, 0, HIST_H, cv2.NORM_MINMAX)\n",
    "    cv2.normalize(g_hist, g_hist, 0, HIST_H, cv2.NORM_MINMAX)\n",
    "    cv2.normalize(r_hist, r_hist, 0, HIST_H, cv2.NORM_MINMAX)\n",
    "\n",
    "    for i in range(1, HIST_SIZE):\n",
    "        cv2.line(\n",
    "            hist_image,\n",
    "            (BIN_W * (i - 1), HIST_H - int(b_hist[i - 1])),\n",
    "            (BIN_W * (i), HIST_H - int(b_hist[i])),\n",
    "            (255, 0, 0),\n",
    "            thickness=2,\n",
    "        )\n",
    "        cv2.line(\n",
    "            hist_image,\n",
    "            (BIN_W * (i - 1), HIST_H - int(g_hist[i - 1])),\n",
    "            (BIN_W * (i), HIST_H - int(g_hist[i])),\n",
    "            (0, 255, 0),\n",
    "            thickness=2,\n",
    "        )\n",
    "        cv2.line(\n",
    "            hist_image,\n",
    "            (BIN_W * (i - 1), HIST_H - int(r_hist[i - 1])),\n",
    "            (BIN_W * (i), HIST_H - int(r_hist[i])),\n",
    "            (0, 0, 255),\n",
    "            thickness=2,\n",
    "        )\n",
    "    return hist_image\n",
    "\n",
    "\n",
    "hsv_image = cv2.cvtColor(image_color, cv2.COLOR_BGR2HSV)\n",
    "h, s, v = cv2.split(hsv_image)\n",
    "v_equalized = cv2.equalizeHist(v)\n",
    "equalized_hsv = cv2.merge([h, s, v_equalized])\n",
    "equalized_image = cv2.cvtColor(equalized_hsv, cv2.COLOR_HSV2BGR)\n",
    "\n",
    "clahe = cv2.createCLAHE(clipLimit=2.0, tileGridSize=(8, 8))\n",
    "v_clahe = clahe.apply(v)\n",
    "clahe_hsv = cv2.merge([h, s, v_clahe])\n",
    "clahe_image = cv2.cvtColor(clahe_hsv, cv2.COLOR_HSV2BGR)\n",
    "\n",
    "\n",
    "hist_image = color_histogram(image_color)\n",
    "cv2.imshow(\"Source image\", image_color)\n",
    "cv2.imshow(\"Source Histogram\", hist_image)\n",
    "\n",
    "hist_equalized = color_histogram(equalized_hsv)\n",
    "cv2.imshow(\"Equalized image\", equalized_image)\n",
    "cv2.imshow(\"Equalized Histogram\", hist_equalized)\n",
    "\n",
    "hist_clahe = color_histogram(clahe_hsv)\n",
    "cv2.imshow(\"CLAHE image\", clahe_image)\n",
    "cv2.imshow(\"CLAHE Histogram\", hist_clahe)\n",
    "\n",
    "cv2.waitKey(0)\n",
    "cv2.destroyAllWindows()"
   ]
  }
 ],
 "metadata": {
  "kernelspec": {
   "display_name": "Python 3",
   "language": "python",
   "name": "python3"
  },
  "language_info": {
   "codemirror_mode": {
    "name": "ipython",
    "version": 3
   },
   "file_extension": ".py",
   "mimetype": "text/x-python",
   "name": "python",
   "nbconvert_exporter": "python",
   "pygments_lexer": "ipython3",
   "version": "3.11.3"
  },
  "orig_nbformat": 4
 },
 "nbformat": 4,
 "nbformat_minor": 2
}
