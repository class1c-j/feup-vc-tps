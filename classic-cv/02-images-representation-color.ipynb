{
 "cells": [
  {
   "attachments": {},
   "cell_type": "markdown",
   "metadata": {},
   "source": [
    "# 2. Images – representation, grayscale and color, color spaces"
   ]
  },
  {
   "cell_type": "code",
   "execution_count": 4,
   "metadata": {},
   "outputs": [],
   "source": [
    "import cv2\n",
    "import numpy as np\n",
    "import random\n",
    "\n",
    "IMAGE_PATH = \"images/Lena.jpg\""
   ]
  },
  {
   "attachments": {},
   "cell_type": "markdown",
   "metadata": {},
   "source": [
    "**a)** Create a grayscale image, having 100(lines)x200(columns) pixels with constant intensity, 100; draw the two diagonals of the image with intensity 255. Display the image."
   ]
  },
  {
   "cell_type": "code",
   "execution_count": 17,
   "metadata": {},
   "outputs": [],
   "source": [
    "HEIGHT = 100\n",
    "WIDTH = 200\n",
    "\n",
    "matrix = np.zeros((HEIGHT, WIDTH), np.uint8)\n",
    "matrix[:] = 100\n",
    "\n",
    "cv2.line(matrix, (0, 0), (WIDTH, HEIGHT), 255, 1)\n",
    "cv2.line(matrix, (0, HEIGHT), (WIDTH, 0), 255, 1)\n",
    "\n",
    "cv2.imshow(\"Matrix\", matrix)\n",
    "\n",
    "cv2.waitKey(0)\n",
    "cv2.destroyAllWindows()"
   ]
  },
  {
   "attachments": {},
   "cell_type": "markdown",
   "metadata": {},
   "source": [
    "**b)** Create a color image, having 100(lines)x200(columns) pixels with yellow color; draw the two diagonals of the image, one in red color, the other in blue color. Display the image."
   ]
  },
  {
   "cell_type": "code",
   "execution_count": 19,
   "metadata": {},
   "outputs": [],
   "source": [
    "HEIGHT = 100\n",
    "WIDTH = 200\n",
    "\n",
    "matrix = np.zeros((HEIGHT, WIDTH, 3), np.uint8)\n",
    "matrix[:] = (0, 255, 255)\n",
    "\n",
    "cv2.line(matrix, (0, 0), (WIDTH, HEIGHT), (0, 0, 255), 1)\n",
    "cv2.line(matrix, (0, HEIGHT), (WIDTH, 0), (255, 0, 0), 1)\n",
    "\n",
    "cv2.imshow(\"Matrix\", matrix)\n",
    "\n",
    "cv2.waitKey(0)\n",
    "cv2.destroyAllWindows()"
   ]
  },
  {
   "attachments": {},
   "cell_type": "markdown",
   "metadata": {},
   "source": [
    "**c)** Read a color image, display it in one window, convert it to grayscale, display the grayscale image in another window and save the grayscale image to a different file."
   ]
  },
  {
   "cell_type": "code",
   "execution_count": 3,
   "metadata": {},
   "outputs": [],
   "source": [
    "file_name = IMAGE_PATH.split(\"/\")[-1].split(\".\")[0]\n",
    "extension = IMAGE_PATH.split(\"/\")[-1].split(\".\")[1]\n",
    "image = cv2.imread(IMAGE_PATH)\n",
    "cv2.imshow(\"Color\", image)\n",
    "\n",
    "image = cv2.cvtColor(image, cv2.COLOR_BGR2GRAY)\n",
    "cv2.imshow(\"Gray\", image)\n",
    "cv2.imwrite(\"out/\" + file_name + \"_gray.\" + extension, image)\n",
    "\n",
    "cv2.waitKey(0)\n",
    "cv2.destroyAllWindows()"
   ]
  },
  {
   "attachments": {},
   "cell_type": "markdown",
   "metadata": {},
   "source": [
    "**d)** Read an image (color or grayscale) and add \"salt and pepper\" noise to it. The number of noisy points must be 10% of the total number of image points. Suggestion: start by determining the number of image channels."
   ]
  },
  {
   "cell_type": "code",
   "execution_count": 28,
   "metadata": {},
   "outputs": [],
   "source": [
    "image = cv2.imread(IMAGE_PATH)\n",
    "NOISE_RATIO = 0.1\n",
    "\n",
    "threshold = 1 - NOISE_RATIO\n",
    "output = image.copy()\n",
    "channels = image.shape[2]\n",
    "\n",
    "black = (0,) * channels\n",
    "white = (255,) * channels\n",
    "\n",
    "probs = np.random.random(image.shape[:2])\n",
    "image[probs < (NOISE_RATIO / 2)] = black\n",
    "image[probs > 1 - (NOISE_RATIO / 2)] = white\n",
    "\n",
    "cv2.imshow(\"Salt and pepper\", image)\n",
    "\n",
    "cv2.waitKey(0)\n",
    "cv2.destroyAllWindows()"
   ]
  },
  {
   "attachments": {},
   "cell_type": "markdown",
   "metadata": {},
   "source": [
    "**e)** Read a color image, in RGB format, split the 3 channels and show each channel in a separate window. Add a constant value to one of the channels, merge the channels into a new color image and show the resulting image."
   ]
  },
  {
   "cell_type": "code",
   "execution_count": 7,
   "metadata": {},
   "outputs": [],
   "source": [
    "image = cv2.imread(IMAGE_PATH)\n",
    "VALUE = 50\n",
    "\n",
    "blue, green, red = cv2.split(image)\n",
    "\n",
    "cv2.imshow(\"Red\", red)\n",
    "cv2.imshow(\"Green\", green)\n",
    "cv2.imshow(\"Blue\", blue)\n",
    "\n",
    "red = cv2.add(blue, VALUE)\n",
    "\n",
    "image = cv2.merge([blue, green, red])\n",
    "cv2.imshow(\"Merged\", image)\n",
    "\n",
    "cv2.waitKey(0)\n",
    "cv2.destroyAllWindows()\n"
   ]
  },
  {
   "attachments": {},
   "cell_type": "markdown",
   "metadata": {},
   "source": [
    "**f)** Read a color image, in RGB format, convert it to HSV, split the 3 HSV channels and show each channel in a separate window. Add a constant value to saturation channel, merge the channels into a new color image and show the resulting image."
   ]
  },
  {
   "cell_type": "code",
   "execution_count": 10,
   "metadata": {},
   "outputs": [],
   "source": [
    "image = cv2.imread(IMAGE_PATH)\n",
    "VALUE = 50\n",
    "\n",
    "hsv = cv2.cvtColor(image, cv2.COLOR_BGR2HSV)\n",
    "h, s, v = cv2.split(hsv)\n",
    "\n",
    "cv2.imshow(\"Hue\", h)\n",
    "cv2.imshow(\"Saturation\", s)\n",
    "cv2.imshow(\"Value\", v)\n",
    "\n",
    "s = cv2.add(s, VALUE)\n",
    "hsv = cv2.merge([h, s, v])\n",
    "\n",
    "image = cv2.cvtColor(hsv, cv2.COLOR_HSV2BGR)\n",
    "cv2.imshow(\"Result\", image)\n",
    "\n",
    "cv2.waitKey(0)\n",
    "cv2.destroyAllWindows()"
   ]
  }
 ],
 "metadata": {
  "kernelspec": {
   "display_name": "Python 3",
   "language": "python",
   "name": "python3"
  },
  "language_info": {
   "codemirror_mode": {
    "name": "ipython",
    "version": 3
   },
   "file_extension": ".py",
   "mimetype": "text/x-python",
   "name": "python",
   "nbconvert_exporter": "python",
   "pygments_lexer": "ipython3",
   "version": "3.11.3"
  },
  "orig_nbformat": 4
 },
 "nbformat": 4,
 "nbformat_minor": 2
}
