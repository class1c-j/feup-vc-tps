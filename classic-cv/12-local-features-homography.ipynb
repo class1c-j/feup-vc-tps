{
 "cells": [
  {
   "attachments": {},
   "cell_type": "markdown",
   "metadata": {},
   "source": [
    "# 12. Local features + Homography - localizing objects"
   ]
  },
  {
   "attachments": {},
   "cell_type": "markdown",
   "metadata": {},
   "source": [
    "Develop a program that tries to detect a given object in an image, delineating the countour of the object in the image\n",
    "(figure 4). Use one of the methods used in the previous exercises to extract and match keypoints, and the functions\n",
    "`cv::findHomography()`, to find the transform between matched keypoints, and `cv::perspectiveTransform()`, to\n",
    "map the points of the contour of the object to the image (note: in the case of figure 4, it is enough to map the 4\n",
    "corners of the object, then draw the lines that connect the mapped corners)."
   ]
  },
  {
   "cell_type": "code",
   "execution_count": null,
   "metadata": {},
   "outputs": [],
   "source": [
    "import cv2\n",
    "\n",
    "box = cv2.imread(\"images/match_box01a_1.png\", cv2.IMREAD_GRAYSCALE)\n",
    "scene = cv2.imread(\"images/match_box01a_2.png\", cv2.IMREAD_GRAYSCALE)\n",
    "\n",
    "sift = cv2.SIFT_create()\n",
    "\n",
    "kp0, des0 = sift.detectAndCompute(box, None)\n",
    "kp1, des1 = sift.detectAndCompute(scene, None)\n",
    "\n",
    "flann = cv2.FlannBasedMatcher()\n",
    "\n",
    "matches = flann.knnMatch(des1, des0, k=2)\n"
   ]
  }
 ],
 "metadata": {
  "kernelspec": {
   "display_name": "Python 3",
   "language": "python",
   "name": "python3"
  },
  "language_info": {
   "name": "python",
   "version": "3.11.3"
  },
  "orig_nbformat": 4
 },
 "nbformat": 4,
 "nbformat_minor": 2
}
