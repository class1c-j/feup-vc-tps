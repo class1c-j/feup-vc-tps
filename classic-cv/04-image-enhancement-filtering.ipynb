{
 "cells": [
  {
   "attachments": {},
   "cell_type": "markdown",
   "metadata": {},
   "source": [
    "# 4. Image enhancement - filtering"
   ]
  },
  {
   "cell_type": "code",
   "execution_count": 32,
   "metadata": {},
   "outputs": [],
   "source": [
    "import cv2\n",
    "import numpy as np\n",
    "from scipy import ndimage\n",
    "\n",
    "IMAGE_PATH = \"images/fruits_01_noisy.jpg\"\n",
    "image = cv2.imread(IMAGE_PATH)\n",
    "KERNEL_SIZE = 5"
   ]
  },
  {
   "attachments": {},
   "cell_type": "markdown",
   "metadata": {},
   "source": [
    "Take a noisy image (see problem 2.d) and filter it (try different filter sizes), using:\n",
    "\n",
    "**a)** a mean filter;"
   ]
  },
  {
   "cell_type": "code",
   "execution_count": 21,
   "metadata": {},
   "outputs": [],
   "source": [
    "filtered = cv2.blur(image, (KERNEL_SIZE, KERNEL_SIZE), 0)\n",
    "\n",
    "cv2.imshow(\"Mean filter\", filtered)\n",
    "cv2.waitKey(0)\n",
    "cv2.destroyAllWindows()"
   ]
  },
  {
   "attachments": {},
   "cell_type": "markdown",
   "metadata": {},
   "source": [
    "**b)** a Gaussian filter"
   ]
  },
  {
   "cell_type": "code",
   "execution_count": 14,
   "metadata": {},
   "outputs": [],
   "source": [
    "filtered = cv2.GaussianBlur(image, (KERNEL_SIZE, KERNEL_SIZE), 0)\n",
    "\n",
    "cv2.imshow(\"Gaussian filter\", filtered)\n",
    "cv2.waitKey(0)\n",
    "cv2.destroyAllWindows()"
   ]
  },
  {
   "attachments": {},
   "cell_type": "markdown",
   "metadata": {},
   "source": [
    "**c)** a median filter"
   ]
  },
  {
   "cell_type": "code",
   "execution_count": 17,
   "metadata": {},
   "outputs": [],
   "source": [
    "filtered = cv2.medianBlur(image, KERNEL_SIZE)\n",
    "\n",
    "cv2.imshow(\"Median filter\", filtered)\n",
    "cv2.waitKey(0)\n",
    "cv2.destroyAllWindows()"
   ]
  },
  {
   "attachments": {},
   "cell_type": "markdown",
   "metadata": {},
   "source": [
    "**d)** a bilateral filter"
   ]
  },
  {
   "cell_type": "code",
   "execution_count": 22,
   "metadata": {},
   "outputs": [],
   "source": [
    "filtered = cv2.bilateralFilter(image, KERNEL_SIZE, KERNEL_SIZE * 2, KERNEL_SIZE / 2)\n",
    "\n",
    "cv2.imshow(\"Bilateral filter\", filtered)\n",
    "cv2.waitKey(0)\n",
    "cv2.destroyAllWindows()"
   ]
  },
  {
   "attachments": {},
   "cell_type": "markdown",
   "metadata": {},
   "source": [
    "**e)** a filter defined by you, adapting the following code (note: remove the (1/16) factor in the assignment of\n",
    "kernel_3x3 and explain what happens)"
   ]
  },
  {
   "cell_type": "code",
   "execution_count": 34,
   "metadata": {},
   "outputs": [
    {
     "name": "stdout",
     "output_type": "stream",
     "text": [
      "[[0.0625 0.125  0.0625]\n",
      " [0.125  0.25   0.125 ]\n",
      " [0.0625 0.125  0.0625]]\n"
     ]
    }
   ],
   "source": [
    "img = cv2.cvtColor(image, cv2.COLOR_BGR2GRAY)\n",
    "\n",
    "gaussianBlurred = cv2.GaussianBlur(img, (3, 3), 0)\n",
    "\n",
    "# 1/16 scales the kernel values to ensure that the sum remains equal to 1,\n",
    "# as the sum of the given array is 16\n",
    "kernel_3x3 = (1/16) * np.array([[1, 2, 1], [2, 4, 2], [1, 2, 1]])\n",
    "print(kernel_3x3)\n",
    "myConvolutionResult = ndimage.convolve(img, kernel_3x3)\n",
    "\n",
    "cv2.imshow(\"Original\", img)\n",
    "cv2.imshow(\"Gaussian blurred\", gaussianBlurred)\n",
    "cv2.imshow(\"My 3x3 convolution w/ Gaussian mask\", myConvolutionResult)\n",
    "cv2.waitKey(0)\n",
    "cv2.destroyAllWindows()"
   ]
  }
 ],
 "metadata": {
  "kernelspec": {
   "display_name": "Python 3",
   "language": "python",
   "name": "python3"
  },
  "language_info": {
   "codemirror_mode": {
    "name": "ipython",
    "version": 3
   },
   "file_extension": ".py",
   "mimetype": "text/x-python",
   "name": "python",
   "nbconvert_exporter": "python",
   "pygments_lexer": "ipython3",
   "version": "3.11.3"
  },
  "orig_nbformat": 4
 },
 "nbformat": 4,
 "nbformat_minor": 2
}
