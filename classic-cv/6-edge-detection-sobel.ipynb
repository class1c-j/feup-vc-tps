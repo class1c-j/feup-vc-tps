{
 "cells": [
  {
   "attachments": {},
   "cell_type": "markdown",
   "metadata": {},
   "source": [
    "# 6. Edge detection - Sobel filter"
   ]
  },
  {
   "cell_type": "code",
   "execution_count": 1,
   "metadata": {},
   "outputs": [],
   "source": [
    "import cv2\n",
    "\n",
    "IMAGE_PATH = \"images/Lena.jpg\"\n",
    "image = cv2.imread(IMAGE_PATH)\n",
    "gray = cv2.cvtColor(image, cv2.COLOR_BGR2GRAY)\n",
    "\n",
    "SCALE = 1\n",
    "DELTA = 0\n",
    "DDEPTH = cv2.CV_16S\n",
    "INITIAL_THRESH = 100"
   ]
  },
  {
   "attachments": {},
   "cell_type": "markdown",
   "metadata": {},
   "source": [
    "Detect the edges of an image using the Sobel filter, by implementing the following steps:"
   ]
  },
  {
   "attachments": {},
   "cell_type": "markdown",
   "metadata": {},
   "source": [
    "**a)** calculate the first derivatives of the image in x and y directions, using the Sobel() function;"
   ]
  },
  {
   "cell_type": "code",
   "execution_count": 11,
   "metadata": {},
   "outputs": [],
   "source": [
    "grad_x = cv2.Sobel(\n",
    "    gray, DDEPTH, 1, 0, ksize=3, scale=SCALE, delta=DELTA, borderType=cv2.BORDER_DEFAULT\n",
    ")\n",
    "grad_y = cv2.Sobel(\n",
    "    gray, DDEPTH, 0, 1, ksize=3, scale=SCALE, delta=DELTA, borderType=cv2.BORDER_DEFAULT\n",
    ")"
   ]
  },
  {
   "attachments": {},
   "cell_type": "markdown",
   "metadata": {},
   "source": [
    "**b)** calculate the approximate value of the gradient by combining the directional derivatives;"
   ]
  },
  {
   "cell_type": "code",
   "execution_count": 12,
   "metadata": {},
   "outputs": [],
   "source": [
    "abs_grad_x = cv2.convertScaleAbs(grad_x)\n",
    "abs_grad_y = cv2.convertScaleAbs(grad_y)\n",
    "\n",
    "grad = cv2.addWeighted(abs_grad_x, 0.5, abs_grad_y, 0.5, 0)"
   ]
  },
  {
   "attachments": {},
   "cell_type": "markdown",
   "metadata": {},
   "source": [
    "**c)** show the \"gradient image\";"
   ]
  },
  {
   "cell_type": "code",
   "execution_count": 13,
   "metadata": {},
   "outputs": [],
   "source": [
    "cv2.imshow(\"Gradient image\", grad)\n",
    "cv2.waitKey(0)\n",
    "cv2.destroyAllWindows()"
   ]
  },
  {
   "attachments": {},
   "cell_type": "markdown",
   "metadata": {},
   "source": [
    "**d)** show the result of thresholding the \"gradient image\"; use a trackbar to select the threshold value;"
   ]
  },
  {
   "cell_type": "code",
   "execution_count": 16,
   "metadata": {},
   "outputs": [],
   "source": [
    "def update_threshold(value):\n",
    "    _, thresh = cv2.threshold(grad, value, 255, cv2.THRESH_BINARY)\n",
    "    cv2.imshow(\"Thresholded\", thresh)\n",
    "\n",
    "\n",
    "cv2.namedWindow(\"Gradient Image\")\n",
    "cv2.createTrackbar(\"Threshold\", \"Gradient Image\", 0, 255, update_threshold)\n",
    "cv2.imshow(\"Gradient Image\", grad)\n",
    "update_threshold(INITIAL_THRESH)\n",
    "cv2.waitKey(0)\n",
    "cv2.destroyAllWindows()"
   ]
  },
  {
   "attachments": {},
   "cell_type": "markdown",
   "metadata": {},
   "source": [
    "**e)** try different kernel sizes (see: Sobel documentation page, in OpenC V site);\n",
    "(Rerun previous cells)"
   ]
  },
  {
   "cell_type": "code",
   "execution_count": 15,
   "metadata": {},
   "outputs": [],
   "source": [
    "grad_x = cv2.Sobel(\n",
    "    gray, DDEPTH, 1, 0, ksize=5, scale=SCALE, delta=DELTA, borderType=cv2.BORDER_DEFAULT\n",
    ")\n",
    "grad_y = cv2.Sobel(\n",
    "    gray, DDEPTH, 0, 1, ksize=5, scale=SCALE, delta=DELTA, borderType=cv2.BORDER_DEFAULT\n",
    ")"
   ]
  },
  {
   "attachments": {},
   "cell_type": "markdown",
   "metadata": {},
   "source": [
    "**f)** test the effect of applying a Gaussin blur filter before applying the Sobel filter; use Gaussian filters with increasing\n",
    "sizes (ex: 3x3, 7x7, 11x11, 31x31). (Rerun previous cells)"
   ]
  },
  {
   "cell_type": "code",
   "execution_count": 10,
   "metadata": {},
   "outputs": [],
   "source": [
    "gray = cv2.GaussianBlur(gray, (5, 5), 0)"
   ]
  }
 ],
 "metadata": {
  "kernelspec": {
   "display_name": "Python 3",
   "language": "python",
   "name": "python3"
  },
  "language_info": {
   "codemirror_mode": {
    "name": "ipython",
    "version": 3
   },
   "file_extension": ".py",
   "mimetype": "text/x-python",
   "name": "python",
   "nbconvert_exporter": "python",
   "pygments_lexer": "ipython3",
   "version": "3.11.3"
  },
  "orig_nbformat": 4
 },
 "nbformat": 4,
 "nbformat_minor": 2
}
