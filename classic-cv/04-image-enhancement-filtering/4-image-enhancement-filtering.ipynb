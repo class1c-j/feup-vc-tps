{
    "cells": [
        {
            "cell_type": "markdown",
            "metadata": {},
            "source": "# 4. Image Enhancement - Filtering"
        },
        {
            "cell_type": "code",
            "execution_count": null,
            "metadata": {
                "trusted": true
            },
            "outputs": [],
            "source": "import cv2\nimport matplotlib.pyplot as plt\nimport numpy as np\n\n\ndef display_image(image):\n    plt.figure()\n    plt.imshow(cv2.cvtColor(image, cv2.COLOR_BGR2RGB))\n    plt.axis(\"off\")\n    plt.show()"
        },
        {
            "cell_type": "markdown",
            "metadata": {},
            "source": "Take a noisy image (see problem 2.d) and filter it (try different filter sizes), using\n\n**a)** a mean filter;"
        },
        {
            "cell_type": "code",
            "execution_count": null,
            "metadata": {
                "trusted": true
            },
            "outputs": [],
            "source": "IMAGE_PATH = \"../2-images-representation-color-spaces/out/noisy_fruits.jpg\"\n\nimage = cv2.imread(IMAGE_PATH)\n\nmean = cv2.blur(image, (4, 4))\n\ndisplay_image(mean)"
        },
        {
            "cell_type": "markdown",
            "metadata": {},
            "source": "**b)** a Gaussian filter;"
        },
        {
            "cell_type": "code",
            "execution_count": null,
            "metadata": {
                "trusted": true
            },
            "outputs": [],
            "source": "gaussian = cv2.GaussianBlur(image, (5, 5), 0)\n\ndisplay_image(gaussian)"
        },
        {
            "cell_type": "markdown",
            "metadata": {},
            "source": "**c)** a median filter;"
        },
        {
            "cell_type": "code",
            "execution_count": null,
            "metadata": {
                "trusted": true
            },
            "outputs": [],
            "source": "median = cv2.medianBlur(image, 5)\n\ndisplay_image(median)"
        },
        {
            "cell_type": "markdown",
            "metadata": {},
            "source": "**d)** a bilateral filter;"
        },
        {
            "cell_type": "code",
            "execution_count": null,
            "metadata": {
                "trusted": true
            },
            "outputs": [],
            "source": "bilateral = cv2.bilateralFilter(image, 5, 200, 200)\n\ndisplay_image(bilateral)"
        },
        {
            "cell_type": "markdown",
            "metadata": {},
            "source": "**e)** a filter defined by you, adapting the following code;"
        },
        {
            "cell_type": "code",
            "execution_count": null,
            "metadata": {
                "trusted": true
            },
            "outputs": [],
            "source": "import cv2\nimport numpy as np\nfrom scipy import ndimage\n\nimage = cv2.cvtColor(image, cv2.COLOR_BGR2GRAY)\n\ngaussian_blurred = cv2.GaussianBlur(image, (3, 3), 0)\n\nkernel_3x3 = (1 / 16) * np.array([[1, 2, 1], [2, 4, 2], [1, 2, 1]])\nprint(kernel_3x3)\nresult = ndimage.convolve(image, kernel_3x3)\n\nprint(\"Original image\")\ndisplay_image(image)\n\nprint(\"OpenCV GaussianBlur\")\ndisplay_image(gaussian_blurred)\n\nprint(\"My 3x3 convolution with gaussian mask\")\ndisplay_image(result)"
        }
    ],
    "metadata": {
        "kernelspec": {
            "display_name": "Python 3 (ipykernel)",
            "language": "python",
            "name": "python3"
        },
        "language_info": {
            "codemirror_mode": {
                "name": "ipython",
                "version": 3
            },
            "file_extension": ".py",
            "mimetype": "text/x-python",
            "name": "python",
            "nbconvert_exporter": "python",
            "pygments_lexer": "ipython3",
            "version": "3.10.10"
        }
    },
    "nbformat": 4,
    "nbformat_minor": 5
}