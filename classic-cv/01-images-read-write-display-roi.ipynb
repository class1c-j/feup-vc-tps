{
 "cells": [
  {
   "attachments": {},
   "cell_type": "markdown",
   "metadata": {},
   "source": [
    "# 1. Images - read, write and display; ROIs"
   ]
  },
  {
   "cell_type": "code",
   "execution_count": 2,
   "metadata": {},
   "outputs": [],
   "source": [
    "import cv2"
   ]
  },
  {
   "attachments": {},
   "cell_type": "markdown",
   "metadata": {},
   "source": [
    "**a)** Read the name of a file containing an image in 'jpg' format and show it in a window, whose name is the name of the\n",
    "file. Test whether the image was successfully read. Display the height and width of the image, on the console."
   ]
  },
  {
   "cell_type": "code",
   "execution_count": 19,
   "metadata": {},
   "outputs": [
    {
     "name": "stdout",
     "output_type": "stream",
     "text": [
      "Width: 493; Height: 356; Channels: 3\n"
     ]
    }
   ],
   "source": [
    "FILE_PATH = \"images/butterfly.jpg\"\n",
    "\n",
    "file_name = FILE_PATH.split(\"/\")[-1]\n",
    "\n",
    "image = cv2.imread(FILE_PATH)\n",
    "print(f\"Width: {image.shape[1]}; Height: {image.shape[0]}; Channels: {image.shape[2]}\")\n",
    "\n",
    "cv2.imshow(file_name, image)\n",
    "\n",
    "cv2.waitKey(0)\n",
    "cv2.destroyAllWindows()"
   ]
  },
  {
   "attachments": {},
   "cell_type": "markdown",
   "metadata": {},
   "source": [
    "**b)** Read a color image from a file in 'jpg' format and save it in 'bmp' format."
   ]
  },
  {
   "cell_type": "code",
   "execution_count": 5,
   "metadata": {},
   "outputs": [
    {
     "data": {
      "text/plain": [
       "True"
      ]
     },
     "execution_count": 5,
     "metadata": {},
     "output_type": "execute_result"
    }
   ],
   "source": [
    "file_no_extension = file_name.split(\".\")[0]\n",
    "cv2.imwrite(\"out/\" + file_no_extension + \".bmp\", image)"
   ]
  },
  {
   "attachments": {},
   "cell_type": "markdown",
   "metadata": {},
   "source": [
    "**c)** Read a color image from a file, show the mouse cursor over the image, and the coordinates and RGB components of\n",
    "the pixel under the cursor. When the user clicks on the mouse, let him modify the RGB components of the selected\n",
    "pixel."
   ]
  },
  {
   "cell_type": "code",
   "execution_count": 38,
   "metadata": {},
   "outputs": [],
   "source": [
    "def mouse_callback(action, x, y, flags, *userdata):\n",
    "    temp = image.copy()\n",
    "\n",
    "    if action == cv2.EVENT_MOUSEMOVE:\n",
    "        if 0 <= x < image.shape[1] and 0 <= y < image.shape[0]:\n",
    "            cv2.putText(\n",
    "                temp,\n",
    "                f\"{x}, {y}\",\n",
    "                (x + 5, y + 20),\n",
    "                cv2.FONT_HERSHEY_PLAIN,\n",
    "                1,\n",
    "                (255, 0, 0, 255),\n",
    "                1,\n",
    "            )\n",
    "            cv2.putText(\n",
    "                temp,\n",
    "                f\" RGB: {temp[y][x][2]}, {temp[y][x][1]}, {temp[y][x][0]}\",\n",
    "                (x - 5, y + 40),\n",
    "                cv2.FONT_HERSHEY_PLAIN,\n",
    "                1,\n",
    "                (255, 0, 0, 255),\n",
    "                1,\n",
    "            )\n",
    "            cv2.imshow(\"Mouse\", temp)\n",
    "\n",
    "    if action == cv2.EVENT_LBUTTONDOWN:\n",
    "        red = input(\"Red: \")\n",
    "        green = input(\"Green: \")\n",
    "        blue = input(\"Blue: \")\n",
    "        image[y][x] = (blue, green, red)\n",
    "        temp[y][x] = (blue, green, red)\n",
    "        cv2.imshow(\"Mouse\", temp)\n",
    "\n",
    "\n",
    "cv2.namedWindow(\"Mouse\")\n",
    "cv2.setMouseCallback(\"Mouse\", mouse_callback)\n",
    "\n",
    "while True:\n",
    "    key = cv2.waitKey(1) & 0xFF\n",
    "    if key == ord(\"q\"):\n",
    "        break\n",
    "\n",
    "\n",
    "cv2.destroyAllWindows()"
   ]
  },
  {
   "attachments": {},
   "cell_type": "markdown",
   "metadata": {},
   "source": [
    "**d)** Read an image from a file, allow the user to select a region of interest (ROI) in the image, by clicking on two points\n",
    "that identify two opposite corners of the selected ROI, and save the ROI into another file."
   ]
  },
  {
   "cell_type": "code",
   "execution_count": 47,
   "metadata": {},
   "outputs": [],
   "source": [
    "corners = []\n",
    "\n",
    "\n",
    "def mouse_crop(action, x, y, flags, *userdata):\n",
    "    global corners\n",
    "\n",
    "    if action == cv2.EVENT_LBUTTONDOWN:\n",
    "        if len(corners) < 2:\n",
    "            corners.append((x, y))\n",
    "        if len(corners) == 2:\n",
    "            cropped = image[\n",
    "                corners[0][1] : corners[1][1], corners[0][0] : corners[1][0]\n",
    "            ]\n",
    "            cv2.imshow(\"Cropped\", cropped)\n",
    "\n",
    "\n",
    "cv2.namedWindow(\"Crop\")\n",
    "cv2.imshow(\"Crop\", image)\n",
    "cv2.setMouseCallback(\"Crop\", mouse_crop)\n",
    "\n",
    "while True:\n",
    "    key = cv2.waitKey(1) & 0xFF\n",
    "    if key == ord(\"q\"):\n",
    "        break\n",
    "\n",
    "cv2.destroyAllWindows()"
   ]
  }
 ],
 "metadata": {
  "kernelspec": {
   "display_name": "Python 3",
   "language": "python",
   "name": "python3"
  },
  "language_info": {
   "codemirror_mode": {
    "name": "ipython",
    "version": 3
   },
   "file_extension": ".py",
   "mimetype": "text/x-python",
   "name": "python",
   "nbconvert_exporter": "python",
   "pygments_lexer": "ipython3",
   "version": "3.11.3"
  },
  "orig_nbformat": 4
 },
 "nbformat": 4,
 "nbformat_minor": 2
}
