{
 "cells": [
  {
   "attachments": {},
   "cell_type": "markdown",
   "metadata": {},
   "source": [
    "# 10. Local features - blob detectors"
   ]
  },
  {
   "cell_type": "code",
   "execution_count": 7,
   "metadata": {},
   "outputs": [],
   "source": [
    "import cv2\n",
    "\n",
    "image = cv2.imread(\"images/home.jpg\")"
   ]
  },
  {
   "attachments": {},
   "cell_type": "markdown",
   "metadata": {},
   "source": [
    "**a)** Use the SIFT blob detector to detect the keypoints in an image and show their position over the image, like in\n",
    "figure 2."
   ]
  },
  {
   "cell_type": "code",
   "execution_count": 9,
   "metadata": {},
   "outputs": [],
   "source": [
    "gray = cv2.cvtColor(image, cv2.COLOR_BGR2GRAY)\n",
    "image_copy = image.copy()\n",
    "sift = cv2.SIFT_create()\n",
    "kp = sift.detect(gray, None)\n",
    "\n",
    "cv2.drawKeypoints(\n",
    "    image_copy, kp, image_copy, (-1, -1, -1), cv2.DRAW_MATCHES_FLAGS_DRAW_RICH_KEYPOINTS\n",
    ")\n",
    "\n",
    "cv2.imshow(\"SIFT\", image_copy)\n",
    "cv2.waitKey(0)\n",
    "cv2.destroyAllWindows()"
   ]
  },
  {
   "attachments": {},
   "cell_type": "markdown",
   "metadata": {},
   "source": [
    "**b)** Use the ORB blob detector to detect the keypoints in an image and show their position over the image."
   ]
  },
  {
   "cell_type": "code",
   "execution_count": 8,
   "metadata": {},
   "outputs": [],
   "source": [
    "cv2.ocl.setUseOpenCL(False)\n",
    "image_copy = image.copy()\n",
    "\n",
    "orb = cv2.ORB_create()\n",
    "\n",
    "kp = orb.detect(image, None)\n",
    "\n",
    "kp, des = orb.compute(image, kp)\n",
    "image_copy = cv2.drawKeypoints(image_copy, kp, None, color=(0, 255, 0))\n",
    "\n",
    "cv2.imshow(\"ORB\", image_copy)\n",
    "cv2.waitKey(0)\n",
    "cv2.destroyAllWindows()"
   ]
  }
 ],
 "metadata": {
  "kernelspec": {
   "display_name": "Python 3",
   "language": "python",
   "name": "python3"
  },
  "language_info": {
   "codemirror_mode": {
    "name": "ipython",
    "version": 3
   },
   "file_extension": ".py",
   "mimetype": "text/x-python",
   "name": "python",
   "nbconvert_exporter": "python",
   "pygments_lexer": "ipython3",
   "version": "3.11.3"
  },
  "orig_nbformat": 4
 },
 "nbformat": 4,
 "nbformat_minor": 2
}
